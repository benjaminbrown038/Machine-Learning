{
 "cells": [
  {
   "cell_type": "code",
   "execution_count": 1,
   "metadata": {},
   "outputs": [
    {
     "name": "stdout",
     "output_type": "stream",
     "text": [
      "2.0.0\n",
      "2.2.4-tf\n"
     ]
    }
   ],
   "source": [
    "import tensorflow as tf\n",
    "from tensorflow import keras\n",
    "\n",
    "print(tf.__version__)\n",
    "print(keras.__version__)"
   ]
  },
  {
   "cell_type": "code",
   "execution_count": 2,
   "metadata": {},
   "outputs": [],
   "source": [
    "from tensorflow.keras.datasets import mnist\n",
    "\n",
    "from tensorflow.keras.models import Sequential\n",
    "from tensorflow.keras.layers import Dropout, Flatten, Dense, Conv2D, MaxPooling2D\n",
    "from tensorflow.keras import backend as K\n",
    "\n",
    "#define train and test and input and output before train and test\n",
    "(x_train,y_train),(x_test,y_test) = mnist.load_data()"
   ]
  },
  {
   "cell_type": "code",
   "execution_count": 6,
   "metadata": {},
   "outputs": [],
   "source": [
    "%load_ext tensorboard\n",
    "import datetime\n",
    "!rm -rf ./logs/"
   ]
  },
  {
   "cell_type": "code",
   "execution_count": 7,
   "metadata": {},
   "outputs": [
    {
     "name": "stdout",
     "output_type": "stream",
     "text": [
      "x_train shape: (60000, 28, 28, 1)\n",
      "60000 train samples\n",
      "10000 test samples\n"
     ]
    }
   ],
   "source": [
    "img_rows = 28\n",
    "img_cols = 28\n",
    "\n",
    "batch_size = 128\n",
    "num_classes = 10\n",
    "epochs = 12\n",
    "\n",
    "\n",
    "if K.image_data_format() == 'channels_first':\n",
    "    x_train = x_train.reshape(x_train.shape[0], 1, img_rows, img_cols)\n",
    "    x_test = x_test.reshape(x_test.shape[0], 1, img_rows, img_cols)\n",
    "    input_shape = (1, img_rows, img_cols)\n",
    "else:\n",
    "    x_train = x_train.reshape(x_train.shape[0], img_rows, img_cols, 1)\n",
    "    x_test = x_test.reshape(x_test.shape[0], img_rows, img_cols, 1)\n",
    "    input_shape = (img_rows, img_cols, 1)\n",
    "\n",
    "x_train = x_train.astype('float32')\n",
    "x_test = x_test.astype('float32')\n",
    "x_train /= 255\n",
    "x_test /= 255\n",
    "print('x_train shape:', x_train.shape)\n",
    "print(x_train.shape[0], 'train samples')\n",
    "print(x_test.shape[0], 'test samples')\n",
    "\n",
    "y_train = keras.utils.to_categorical(y_train, num_classes)\n",
    "y_test = keras.utils.to_categorical(y_test, num_classes)\n"
   ]
  },
  {
   "cell_type": "code",
   "execution_count": 8,
   "metadata": {},
   "outputs": [
    {
     "name": "stdout",
     "output_type": "stream",
     "text": [
      "Train on 60000 samples, validate on 10000 samples\n",
      "Epoch 1/12\n",
      "60000/60000 [==============================] - 440s 7ms/sample - loss: 2.2700 - accuracy: 0.1801 - val_loss: 2.2317 - val_accuracy: 0.2763\n",
      "Epoch 2/12\n",
      "60000/60000 [==============================] - 405s 7ms/sample - loss: 2.1961 - accuracy: 0.3853 - val_loss: 2.1338 - val_accuracy: 0.5869\n",
      "Epoch 3/12\n",
      "60000/60000 [==============================] - 366s 6ms/sample - loss: 2.0806 - accuracy: 0.5775 - val_loss: 1.9811 - val_accuracy: 0.6866\n",
      "Epoch 4/12\n",
      "60000/60000 [==============================] - 435s 7ms/sample - loss: 1.8942 - accuracy: 0.6718 - val_loss: 1.7412 - val_accuracy: 0.7264\n",
      "Epoch 5/12\n",
      "60000/60000 [==============================] - 483s 8ms/sample - loss: 1.6180 - accuracy: 0.7144 - val_loss: 1.4173 - val_accuracy: 0.7503\n",
      "Epoch 6/12\n",
      "60000/60000 [==============================] - 479s 8ms/sample - loss: 1.2929 - accuracy: 0.7420 - val_loss: 1.0952 - val_accuracy: 0.7799\n",
      "Epoch 7/12\n",
      "60000/60000 [==============================] - 367s 6ms/sample - loss: 1.0183 - accuracy: 0.7687 - val_loss: 0.8626 - val_accuracy: 0.8046\n",
      "Epoch 8/12\n",
      "60000/60000 [==============================] - 406s 7ms/sample - loss: 0.8337 - accuracy: 0.7925 - val_loss: 0.7159 - val_accuracy: 0.8274\n",
      "Epoch 9/12\n",
      "60000/60000 [==============================] - 477s 8ms/sample - loss: 0.7140 - accuracy: 0.8117 - val_loss: 0.6218 - val_accuracy: 0.8434\n",
      "Epoch 10/12\n",
      "60000/60000 [==============================] - 485s 8ms/sample - loss: 0.6368 - accuracy: 0.8249 - val_loss: 0.5587 - val_accuracy: 0.8555\n",
      "Epoch 11/12\n",
      "60000/60000 [==============================] - 481s 8ms/sample - loss: 0.5831 - accuracy: 0.8371 - val_loss: 0.5138 - val_accuracy: 0.8640\n",
      "Epoch 12/12\n",
      "60000/60000 [==============================] - 480s 8ms/sample - loss: 0.5425 - accuracy: 0.8461 - val_loss: 0.4800 - val_accuracy: 0.8718\n",
      "Test loss: 0.48001892817020414\n",
      "Test accuracy: 0.8718\n"
     ]
    }
   ],
   "source": [
    "model = Sequential()\n",
    "model.add(Conv2D(32,kernel_size=(3,3),\n",
    "                activation='relu',\n",
    "                input_shape=input_shape))\n",
    "model.add(Conv2D(64,(3,3),activation = 'relu'))\n",
    "model.add(MaxPooling2D(pool_size=(2,2)))\n",
    "model.add(Dropout(.25))\n",
    "model.add(Flatten())\n",
    "model.add(Dense(128,activation = 'relu'))\n",
    "model.add(Dense(num_classes,activation='softmax'))\n",
    "\n",
    "model.compile(loss=keras.losses.categorical_crossentropy,\n",
    "             optimizer=keras.optimizers.Adadelta(),\n",
    "             metrics = ['accuracy'])\n",
    "\n",
    "log_dir = \"logs/fit/\" + datetime.datetime.now().strftime(\"%Y%m%d-%H%M%S\")\n",
    "tensorboard_callback = tf.keras.callbacks.TensorBoard(log_dir=log_dir, histogram_freq=1)\n",
    "\n",
    "model.fit(x_train,y_train,\n",
    "         batch_size = batch_size,\n",
    "         epochs = epochs,\n",
    "         verbose = 1,\n",
    "         validation_data=(x_test,y_test))\n",
    "\n",
    "score = model.evaluate(x_test,y_test,verbose = 0)\n",
    "print('Test loss:',score[0])\n",
    "print('Test accuracy:',score[1])"
   ]
  },
  {
   "cell_type": "code",
   "execution_count": null,
   "metadata": {},
   "outputs": [],
   "source": []
  }
 ],
 "metadata": {
  "kernelspec": {
   "display_name": "Python 3.7 (tensorflow)",
   "language": "python",
   "name": "tensorflow"
  },
  "language_info": {
   "codemirror_mode": {
    "name": "ipython",
    "version": 3
   },
   "file_extension": ".py",
   "mimetype": "text/x-python",
   "name": "python",
   "nbconvert_exporter": "python",
   "pygments_lexer": "ipython3",
   "version": "3.7.7"
  }
 },
 "nbformat": 4,
 "nbformat_minor": 4
}
